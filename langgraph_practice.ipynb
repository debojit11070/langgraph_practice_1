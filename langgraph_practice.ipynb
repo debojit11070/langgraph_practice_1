{
  "nbformat": 4,
  "nbformat_minor": 0,
  "metadata": {
    "colab": {
      "provenance": [],
      "authorship_tag": "ABX9TyNHhfUQslui9YnbcJ2+jqxE",
      "include_colab_link": true
    },
    "kernelspec": {
      "name": "python3",
      "display_name": "Python 3"
    },
    "language_info": {
      "name": "python"
    }
  },
  "cells": [
    {
      "cell_type": "markdown",
      "metadata": {
        "id": "view-in-github",
        "colab_type": "text"
      },
      "source": [
        "<a href=\"https://colab.research.google.com/github/debojit11070/langgraph_practice_1/blob/main/langgraph_practice.ipynb\" target=\"_parent\"><img src=\"https://colab.research.google.com/assets/colab-badge.svg\" alt=\"Open In Colab\"/></a>"
      ]
    },
    {
      "cell_type": "code",
      "execution_count": 1,
      "metadata": {
        "id": "9TD5iN0SVRJX"
      },
      "outputs": [],
      "source": [
        "from typing import TypedDict\n",
        "class Movie(TypedDict):\n",
        "  name: str\n",
        "  year: int\n",
        "\n",
        "\n",
        "movies = [\n",
        "  {\n",
        "    \"name\": \"The Shawshank Redemption\",\n",
        "    \"year\": 1994\n",
        "  }]"
      ]
    },
    {
      "cell_type": "code",
      "source": [
        "movies"
      ],
      "metadata": {
        "colab": {
          "base_uri": "https://localhost:8080/"
        },
        "id": "sJjAMR0MVePZ",
        "outputId": "4d4d757c-a44c-4f65-8a32-a4005d138a52"
      },
      "execution_count": 2,
      "outputs": [
        {
          "output_type": "execute_result",
          "data": {
            "text/plain": [
              "[{'name': 'The Shawshank Redemption', 'year': 1994}]"
            ]
          },
          "metadata": {},
          "execution_count": 2
        }
      ]
    },
    {
      "cell_type": "code",
      "source": [
        "from typing import Union\n",
        "\n",
        "def square(x:Union[int, float]) -> float:\n",
        "  return x*x\n",
        "\n"
      ],
      "metadata": {
        "id": "HdohTupXVoli"
      },
      "execution_count": 3,
      "outputs": []
    },
    {
      "cell_type": "code",
      "source": [
        "square(5)"
      ],
      "metadata": {
        "colab": {
          "base_uri": "https://localhost:8080/"
        },
        "id": "Zn1rB2eDW1dl",
        "outputId": "edc6a9f4-0b08-4517-802e-ef04c92b6f4c"
      },
      "execution_count": 4,
      "outputs": [
        {
          "output_type": "execute_result",
          "data": {
            "text/plain": [
              "25"
            ]
          },
          "metadata": {},
          "execution_count": 4
        }
      ]
    },
    {
      "cell_type": "code",
      "source": [
        "from typing import Optional"
      ],
      "metadata": {
        "id": "JfiWxWMdW3Dm"
      },
      "execution_count": 5,
      "outputs": []
    },
    {
      "cell_type": "code",
      "source": [
        "def nice_meassage(name: Optional[str]) -> None:\n",
        "  if name is None:\n",
        "    print(\"Hey random person\")\n",
        "\n",
        "  else:\n",
        "    print(f\"Hey {name}\")"
      ],
      "metadata": {
        "id": "oYBQpD6CXIhy"
      },
      "execution_count": 6,
      "outputs": []
    },
    {
      "cell_type": "code",
      "source": [
        "nice_meassage(None)"
      ],
      "metadata": {
        "colab": {
          "base_uri": "https://localhost:8080/"
        },
        "id": "AQwDQ3YAXW7y",
        "outputId": "d929a399-cc24-40ab-f26f-b3fb8f49777e"
      },
      "execution_count": 7,
      "outputs": [
        {
          "output_type": "stream",
          "name": "stdout",
          "text": [
            "Hey random person\n"
          ]
        }
      ]
    },
    {
      "cell_type": "code",
      "source": [
        "square = lambda x: x*x\n",
        "square(10)"
      ],
      "metadata": {
        "colab": {
          "base_uri": "https://localhost:8080/"
        },
        "id": "MyCBZCvMXY8k",
        "outputId": "b35c1484-31d9-479a-cef9-7f4b0b4605a4"
      },
      "execution_count": 8,
      "outputs": [
        {
          "output_type": "execute_result",
          "data": {
            "text/plain": [
              "100"
            ]
          },
          "metadata": {},
          "execution_count": 8
        }
      ]
    },
    {
      "cell_type": "code",
      "source": [
        "nums = [1,2,3,4]\n",
        "squares = list(map(lambda x: x*x, nums))"
      ],
      "metadata": {
        "id": "JfDdV4CAX5F0"
      },
      "execution_count": 9,
      "outputs": []
    },
    {
      "cell_type": "code",
      "source": [
        "squares"
      ],
      "metadata": {
        "colab": {
          "base_uri": "https://localhost:8080/"
        },
        "id": "WUJsONc7X_GY",
        "outputId": "fa2f6e81-9519-4ddf-c34d-5835c8af4088"
      },
      "execution_count": 10,
      "outputs": [
        {
          "output_type": "execute_result",
          "data": {
            "text/plain": [
              "[1, 4, 9, 16]"
            ]
          },
          "metadata": {},
          "execution_count": 10
        }
      ]
    },
    {
      "cell_type": "markdown",
      "source": [
        "## Hello world agent"
      ],
      "metadata": {
        "id": "i5c28JhGew4_"
      }
    },
    {
      "cell_type": "code",
      "source": [
        "!pip install langgraph"
      ],
      "metadata": {
        "colab": {
          "base_uri": "https://localhost:8080/"
        },
        "id": "dJqFPSVwfJZf",
        "outputId": "73374757-83cc-4e1a-a63d-aa08ba9e3475"
      },
      "execution_count": 11,
      "outputs": [
        {
          "output_type": "stream",
          "name": "stdout",
          "text": [
            "Collecting langgraph\n",
            "  Downloading langgraph-0.5.3-py3-none-any.whl.metadata (6.9 kB)\n",
            "Requirement already satisfied: langchain-core>=0.1 in /usr/local/lib/python3.11/dist-packages (from langgraph) (0.3.68)\n",
            "Collecting langgraph-checkpoint<3.0.0,>=2.1.0 (from langgraph)\n",
            "  Downloading langgraph_checkpoint-2.1.1-py3-none-any.whl.metadata (4.2 kB)\n",
            "Collecting langgraph-prebuilt<0.6.0,>=0.5.0 (from langgraph)\n",
            "  Downloading langgraph_prebuilt-0.5.2-py3-none-any.whl.metadata (4.5 kB)\n",
            "Collecting langgraph-sdk<0.2.0,>=0.1.42 (from langgraph)\n",
            "  Downloading langgraph_sdk-0.1.73-py3-none-any.whl.metadata (1.5 kB)\n",
            "Requirement already satisfied: pydantic>=2.7.4 in /usr/local/lib/python3.11/dist-packages (from langgraph) (2.11.7)\n",
            "Requirement already satisfied: xxhash>=3.5.0 in /usr/local/lib/python3.11/dist-packages (from langgraph) (3.5.0)\n",
            "Requirement already satisfied: langsmith>=0.3.45 in /usr/local/lib/python3.11/dist-packages (from langchain-core>=0.1->langgraph) (0.4.5)\n",
            "Requirement already satisfied: tenacity!=8.4.0,<10.0.0,>=8.1.0 in /usr/local/lib/python3.11/dist-packages (from langchain-core>=0.1->langgraph) (8.5.0)\n",
            "Requirement already satisfied: jsonpatch<2.0,>=1.33 in /usr/local/lib/python3.11/dist-packages (from langchain-core>=0.1->langgraph) (1.33)\n",
            "Requirement already satisfied: PyYAML>=5.3 in /usr/local/lib/python3.11/dist-packages (from langchain-core>=0.1->langgraph) (6.0.2)\n",
            "Requirement already satisfied: packaging<25,>=23.2 in /usr/local/lib/python3.11/dist-packages (from langchain-core>=0.1->langgraph) (24.2)\n",
            "Requirement already satisfied: typing-extensions>=4.7 in /usr/local/lib/python3.11/dist-packages (from langchain-core>=0.1->langgraph) (4.14.1)\n",
            "Collecting ormsgpack>=1.10.0 (from langgraph-checkpoint<3.0.0,>=2.1.0->langgraph)\n",
            "  Downloading ormsgpack-1.10.0-cp311-cp311-manylinux_2_17_x86_64.manylinux2014_x86_64.whl.metadata (43 kB)\n",
            "\u001b[2K     \u001b[90m━━━━━━━━━━━━━━━━━━━━━━━━━━━━━━━━━━━━━━━━\u001b[0m \u001b[32m43.7/43.7 kB\u001b[0m \u001b[31m1.9 MB/s\u001b[0m eta \u001b[36m0:00:00\u001b[0m\n",
            "\u001b[?25hRequirement already satisfied: httpx>=0.25.2 in /usr/local/lib/python3.11/dist-packages (from langgraph-sdk<0.2.0,>=0.1.42->langgraph) (0.28.1)\n",
            "Requirement already satisfied: orjson>=3.10.1 in /usr/local/lib/python3.11/dist-packages (from langgraph-sdk<0.2.0,>=0.1.42->langgraph) (3.10.18)\n",
            "Requirement already satisfied: annotated-types>=0.6.0 in /usr/local/lib/python3.11/dist-packages (from pydantic>=2.7.4->langgraph) (0.7.0)\n",
            "Requirement already satisfied: pydantic-core==2.33.2 in /usr/local/lib/python3.11/dist-packages (from pydantic>=2.7.4->langgraph) (2.33.2)\n",
            "Requirement already satisfied: typing-inspection>=0.4.0 in /usr/local/lib/python3.11/dist-packages (from pydantic>=2.7.4->langgraph) (0.4.1)\n",
            "Requirement already satisfied: anyio in /usr/local/lib/python3.11/dist-packages (from httpx>=0.25.2->langgraph-sdk<0.2.0,>=0.1.42->langgraph) (4.9.0)\n",
            "Requirement already satisfied: certifi in /usr/local/lib/python3.11/dist-packages (from httpx>=0.25.2->langgraph-sdk<0.2.0,>=0.1.42->langgraph) (2025.7.14)\n",
            "Requirement already satisfied: httpcore==1.* in /usr/local/lib/python3.11/dist-packages (from httpx>=0.25.2->langgraph-sdk<0.2.0,>=0.1.42->langgraph) (1.0.9)\n",
            "Requirement already satisfied: idna in /usr/local/lib/python3.11/dist-packages (from httpx>=0.25.2->langgraph-sdk<0.2.0,>=0.1.42->langgraph) (3.10)\n",
            "Requirement already satisfied: h11>=0.16 in /usr/local/lib/python3.11/dist-packages (from httpcore==1.*->httpx>=0.25.2->langgraph-sdk<0.2.0,>=0.1.42->langgraph) (0.16.0)\n",
            "Requirement already satisfied: jsonpointer>=1.9 in /usr/local/lib/python3.11/dist-packages (from jsonpatch<2.0,>=1.33->langchain-core>=0.1->langgraph) (3.0.0)\n",
            "Requirement already satisfied: requests<3,>=2 in /usr/local/lib/python3.11/dist-packages (from langsmith>=0.3.45->langchain-core>=0.1->langgraph) (2.32.3)\n",
            "Requirement already satisfied: requests-toolbelt<2.0.0,>=1.0.0 in /usr/local/lib/python3.11/dist-packages (from langsmith>=0.3.45->langchain-core>=0.1->langgraph) (1.0.0)\n",
            "Requirement already satisfied: zstandard<0.24.0,>=0.23.0 in /usr/local/lib/python3.11/dist-packages (from langsmith>=0.3.45->langchain-core>=0.1->langgraph) (0.23.0)\n",
            "Requirement already satisfied: charset-normalizer<4,>=2 in /usr/local/lib/python3.11/dist-packages (from requests<3,>=2->langsmith>=0.3.45->langchain-core>=0.1->langgraph) (3.4.2)\n",
            "Requirement already satisfied: urllib3<3,>=1.21.1 in /usr/local/lib/python3.11/dist-packages (from requests<3,>=2->langsmith>=0.3.45->langchain-core>=0.1->langgraph) (2.4.0)\n",
            "Requirement already satisfied: sniffio>=1.1 in /usr/local/lib/python3.11/dist-packages (from anyio->httpx>=0.25.2->langgraph-sdk<0.2.0,>=0.1.42->langgraph) (1.3.1)\n",
            "Downloading langgraph-0.5.3-py3-none-any.whl (143 kB)\n",
            "\u001b[2K   \u001b[90m━━━━━━━━━━━━━━━━━━━━━━━━━━━━━━━━━━━━━━━━\u001b[0m \u001b[32m143.8/143.8 kB\u001b[0m \u001b[31m4.4 MB/s\u001b[0m eta \u001b[36m0:00:00\u001b[0m\n",
            "\u001b[?25hDownloading langgraph_checkpoint-2.1.1-py3-none-any.whl (43 kB)\n",
            "\u001b[2K   \u001b[90m━━━━━━━━━━━━━━━━━━━━━━━━━━━━━━━━━━━━━━━━\u001b[0m \u001b[32m43.9/43.9 kB\u001b[0m \u001b[31m3.5 MB/s\u001b[0m eta \u001b[36m0:00:00\u001b[0m\n",
            "\u001b[?25hDownloading langgraph_prebuilt-0.5.2-py3-none-any.whl (23 kB)\n",
            "Downloading langgraph_sdk-0.1.73-py3-none-any.whl (50 kB)\n",
            "\u001b[2K   \u001b[90m━━━━━━━━━━━━━━━━━━━━━━━━━━━━━━━━━━━━━━━━\u001b[0m \u001b[32m50.2/50.2 kB\u001b[0m \u001b[31m4.3 MB/s\u001b[0m eta \u001b[36m0:00:00\u001b[0m\n",
            "\u001b[?25hDownloading ormsgpack-1.10.0-cp311-cp311-manylinux_2_17_x86_64.manylinux2014_x86_64.whl (216 kB)\n",
            "\u001b[2K   \u001b[90m━━━━━━━━━━━━━━━━━━━━━━━━━━━━━━━━━━━━━━━━\u001b[0m \u001b[32m216.5/216.5 kB\u001b[0m \u001b[31m11.0 MB/s\u001b[0m eta \u001b[36m0:00:00\u001b[0m\n",
            "\u001b[?25hInstalling collected packages: ormsgpack, langgraph-sdk, langgraph-checkpoint, langgraph-prebuilt, langgraph\n",
            "Successfully installed langgraph-0.5.3 langgraph-checkpoint-2.1.1 langgraph-prebuilt-0.5.2 langgraph-sdk-0.1.73 ormsgpack-1.10.0\n"
          ]
        }
      ]
    },
    {
      "cell_type": "code",
      "source": [
        "# # now create an agentstate - shared data structure\n",
        "# class AgentState(TypedDict): ##state schema\n",
        "#   message: str\n",
        "\n",
        "# def greeting_node(state: AgentState) -> StateGraph:\n",
        "#   \"\"\" simple node that adds a greeting message to the state\"\"\"\n",
        "#   state[\"message\"] = f\"Hey {state['message']}, How is your day going?\"\n",
        "#   return state"
      ],
      "metadata": {
        "id": "Y93DDN72e5fF"
      },
      "execution_count": 13,
      "outputs": []
    },
    {
      "cell_type": "code",
      "source": [
        "from typing import Dict, TypedDict\n",
        "from langgraph.graph import StateGraph"
      ],
      "metadata": {
        "id": "YGvNsvOvYBMb"
      },
      "execution_count": 14,
      "outputs": []
    },
    {
      "cell_type": "code",
      "source": [
        "graph = StateGraph(AgentState)"
      ],
      "metadata": {
        "id": "3e7Y57SchqfF"
      },
      "execution_count": 15,
      "outputs": []
    },
    {
      "cell_type": "code",
      "source": [
        "graph.add_node(\"greeter\", greeting_node)"
      ],
      "metadata": {
        "colab": {
          "base_uri": "https://localhost:8080/",
          "height": 141
        },
        "id": "JBNKsgvRh30Z",
        "outputId": "b18f8f91-feca-4814-ca3d-11304b546f42"
      },
      "execution_count": 16,
      "outputs": [
        {
          "output_type": "error",
          "ename": "NameError",
          "evalue": "name 'greeting_node' is not defined",
          "traceback": [
            "\u001b[0;31m---------------------------------------------------------------------------\u001b[0m",
            "\u001b[0;31mNameError\u001b[0m                                 Traceback (most recent call last)",
            "\u001b[0;32m/tmp/ipython-input-16-400440407.py\u001b[0m in \u001b[0;36m<cell line: 0>\u001b[0;34m()\u001b[0m\n\u001b[0;32m----> 1\u001b[0;31m \u001b[0mgraph\u001b[0m\u001b[0;34m.\u001b[0m\u001b[0madd_node\u001b[0m\u001b[0;34m(\u001b[0m\u001b[0;34m\"greeter\"\u001b[0m\u001b[0;34m,\u001b[0m \u001b[0mgreeting_node\u001b[0m\u001b[0;34m)\u001b[0m\u001b[0;34m\u001b[0m\u001b[0;34m\u001b[0m\u001b[0m\n\u001b[0m",
            "\u001b[0;31mNameError\u001b[0m: name 'greeting_node' is not defined"
          ]
        }
      ]
    },
    {
      "cell_type": "code",
      "source": [
        "# graph.set_entry_point(\"greeter\")\n",
        "# graph.set_finish_point(\"greeter\")\n",
        "\n",
        "# app = graph.compile()"
      ],
      "metadata": {
        "id": "Ew4E_aLKiIWZ"
      },
      "execution_count": 18,
      "outputs": []
    },
    {
      "cell_type": "code",
      "source": [
        "# app"
      ],
      "metadata": {
        "id": "3yMrNGmsigk7"
      },
      "execution_count": 19,
      "outputs": []
    },
    {
      "cell_type": "code",
      "source": [
        "# # !pip install IPython\n",
        "# from IPython.display import Image, display\n",
        "# display(Image(app.get_graph().draw_mermaid_png()))"
      ],
      "metadata": {
        "id": "Y8uM3FIgihlh"
      },
      "execution_count": 20,
      "outputs": []
    },
    {
      "cell_type": "code",
      "source": [
        "# result = app.invoke({\"message\": \"bob\"})"
      ],
      "metadata": {
        "id": "QCBL_IaQixpr"
      },
      "execution_count": 21,
      "outputs": []
    },
    {
      "cell_type": "code",
      "source": [
        "# result[\"message\"]"
      ],
      "metadata": {
        "id": "mk5PAgrtjfEK"
      },
      "execution_count": 22,
      "outputs": []
    },
    {
      "cell_type": "code",
      "source": [
        "# now create an agentstate - shared data structure\n",
        "# class AgentState(TypedDict): ##state schema\n",
        "#   message: str\n",
        "\n",
        "# def greeting_node(state: AgentState) -> StateGraph:\n",
        "#   \"\"\" simple node that adds a greeting message to the state\"\"\"\n",
        "#   state[\"message\"] = f\"{state['message']}, you're doing an amazing job learning LangGraph?\"\n",
        "#   return state"
      ],
      "metadata": {
        "id": "P2MYlTH1jmHW"
      },
      "execution_count": 23,
      "outputs": []
    },
    {
      "cell_type": "code",
      "source": [
        "#\n"
      ],
      "metadata": {
        "id": "DXmo6y_vkAr4"
      },
      "execution_count": 24,
      "outputs": []
    },
    {
      "cell_type": "code",
      "source": [
        "# app"
      ],
      "metadata": {
        "id": "XluhoxVxkhAH"
      },
      "execution_count": 25,
      "outputs": []
    },
    {
      "cell_type": "code",
      "source": [
        "# result = app.invoke({\"message\": \"bob\"})"
      ],
      "metadata": {
        "id": "1KVW72YIkpc_"
      },
      "execution_count": 26,
      "outputs": []
    },
    {
      "cell_type": "code",
      "source": [
        "# result[\"message\"]"
      ],
      "metadata": {
        "id": "P6sfHz6bkh93"
      },
      "execution_count": 27,
      "outputs": []
    },
    {
      "cell_type": "code",
      "source": [
        "from typing import TypedDict, List\n",
        "from langgraph.graph import StateGraph"
      ],
      "metadata": {
        "id": "1Cc5FMYGkr50"
      },
      "execution_count": 31,
      "outputs": []
    },
    {
      "cell_type": "code",
      "source": [
        "class AgentState(TypedDict):\n",
        "  values: List[int]\n",
        "  name: str\n",
        "  result: str"
      ],
      "metadata": {
        "id": "BcrVd9K8nDtg"
      },
      "execution_count": 32,
      "outputs": []
    },
    {
      "cell_type": "code",
      "source": [
        "def process_values(state: AgentState) -> AgentState:\n",
        "  \"\"\"this function handles multiple different inputs\"\"\"\n",
        "  state[\"result\"] = f\"Hi there {state['name']}! your sum = {sum(state['values'])}\"\n",
        "  return state"
      ],
      "metadata": {
        "id": "lrA-_QkgntsV"
      },
      "execution_count": 33,
      "outputs": []
    },
    {
      "cell_type": "code",
      "source": [
        "graph = StateGraph(AgentState)"
      ],
      "metadata": {
        "id": "YiYmiMo0oTx2"
      },
      "execution_count": 34,
      "outputs": []
    },
    {
      "cell_type": "code",
      "source": [
        "#graph.add_node(\"processor\", process_values)\n",
        "graph.set_entry_point(\"processor\")\n",
        "graph.set_finish_point(\"processor\")\n",
        "app = graph.compile()"
      ],
      "metadata": {
        "id": "JfxeGk5wodJI"
      },
      "execution_count": 37,
      "outputs": []
    },
    {
      "cell_type": "code",
      "source": [
        "app"
      ],
      "metadata": {
        "colab": {
          "base_uri": "https://localhost:8080/",
          "height": 251
        },
        "id": "WsuIpE6OohZO",
        "outputId": "46f08690-04bd-4274-c4ce-8511069d65dd"
      },
      "execution_count": 38,
      "outputs": [
        {
          "output_type": "execute_result",
          "data": {
            "text/plain": [
              "<langgraph.graph.state.CompiledStateGraph object at 0x7bcb392e2ad0>"
            ],
            "image/png": "[encoded data removed]"
          },
          "metadata": {},
          "execution_count": 38
        }
      ]
    },
    {
      "cell_type": "code",
      "source": [
        "answers = app.invoke({\"values\":[1,2,3,4], \"name\":\"bob\"})"
      ],
      "metadata": {
        "id": "fee8Ay63o6Ql"
      },
      "execution_count": 40,
      "outputs": []
    },
    {
      "cell_type": "code",
      "source": [
        "print(answers)"
      ],
      "metadata": {
        "colab": {
          "base_uri": "https://localhost:8080/"
        },
        "id": "wUQBdKIXpPFe",
        "outputId": "6f178247-6c6b-4187-e9d7-b6cc80b68025"
      },
      "execution_count": 41,
      "outputs": [
        {
          "output_type": "stream",
          "name": "stdout",
          "text": [
            "{'values': [1, 2, 3, 4], 'name': 'bob', 'result': 'Hi there bob! your sum = 10'}\n"
          ]
        }
      ]
    },
    {
      "cell_type": "code",
      "source": [],
      "metadata": {
        "id": "iKdi0C4ppXK5"
      },
      "execution_count": null,
      "outputs": []
    },
    {
      "cell_type": "markdown",
      "source": [
        "## graph 3: SEQUENTIAL GRAPH"
      ],
      "metadata": {
        "id": "4Rq7t2pspiEE"
      }
    },
    {
      "cell_type": "code",
      "source": [
        "from typing import TypedDict, List\n",
        "from langgraph.graph import StateGraph"
      ],
      "metadata": {
        "id": "sX5YVPCnpi5t"
      },
      "execution_count": 42,
      "outputs": []
    },
    {
      "cell_type": "code",
      "source": [
        "class AgentState(TypedDict):\n",
        "  name: str\n",
        "  age: str\n",
        "  final: str\n",
        "\n",
        ""
      ],
      "metadata": {
        "id": "Dda_nL--p6SM"
      },
      "execution_count": 43,
      "outputs": []
    },
    {
      "cell_type": "code",
      "source": [
        "def first_node(state:AgentState) -> AgentState:\n",
        "  \"\"\"first node of our sequence\"\"\"\n",
        "  state[\"final\"] = f\"Hi {state['name']}! How old are you?\"\n",
        "  return state\n",
        "\n",
        "def second_node(state:AgentState) -> AgentState:\n",
        "    state[\"final\"] =state[\"final\"] + f\"your {state['age']} years old!!\"\n",
        "    return state"
      ],
      "metadata": {
        "id": "CDZFat4rqC7_"
      },
      "execution_count": 44,
      "outputs": []
    },
    {
      "cell_type": "code",
      "source": [
        "# graph = StateGraph(AgentState)\n",
        "\n",
        "# graph.add_node(\"first_node\", first_node)\n",
        "# graph.add_node(\"second_node\", second_node)\n",
        "\n",
        "# graph.set_entry_point(\"first_node\")\n",
        "# graph.add_edge(\"first_node\", \"second_node\")\n",
        "# graph.set_finish_point(\"second_node\")\n",
        "\n",
        "# app = graph.compile()"
      ],
      "metadata": {
        "id": "YxfQhJnnwBqA"
      },
      "execution_count": 49,
      "outputs": []
    },
    {
      "cell_type": "code",
      "source": [],
      "metadata": {
        "id": "J_tKnpSOwPad"
      },
      "execution_count": 49,
      "outputs": []
    },
    {
      "cell_type": "code",
      "metadata": {
        "id": "79becae1"
      },
      "source": [
        "from typing import TypedDict, List\n",
        "from langgraph.graph import StateGraph\n",
        "\n",
        "class AgentState(TypedDict):\n",
        "  name: str\n",
        "  age: str\n",
        "  final: str\n",
        "\n",
        "def first_node(state:AgentState) -> AgentState:\n",
        "  \"\"\"first node of our sequence\"\"\"\n",
        "  state[\"final\"] = f\"Hi {state['name']}! How old are you?\"\n",
        "  return state\n",
        "\n",
        "def second_node(state:AgentState) -> AgentState:\n",
        "    state[\"final\"] =state[\"final\"] + f\"your {state['age']} years old!!\"\n",
        "    return state\n",
        "\n",
        "graph = StateGraph(AgentState)\n",
        "\n",
        "graph.add_node(\"first_node\", first_node)\n",
        "graph.add_node(\"second_node\", second_node)\n",
        "\n",
        "graph.set_entry_point(\"first_node\")\n",
        "graph.add_edge(\"first_node\", \"second_node\")\n",
        "graph.set_finish_point(\"second_node\")\n",
        "\n",
        "app = graph.compile()"
      ],
      "execution_count": 50,
      "outputs": []
    },
    {
      "cell_type": "code",
      "source": [
        "app"
      ],
      "metadata": {
        "colab": {
          "base_uri": "https://localhost:8080/",
          "height": 350
        },
        "id": "_ZQ1BekTwq3E",
        "outputId": "41884f14-e6c9-4a81-bf1c-fc99c4cd0aa2"
      },
      "execution_count": 51,
      "outputs": [
        {
          "output_type": "execute_result",
          "data": {
            "text/plain": [
              "<langgraph.graph.state.CompiledStateGraph object at 0x7bcb38ac4710>"
            ],
            "image/png": "[encoded data removed]"
          },
          "metadata": {},
          "execution_count": 51
        }
      ]
    },
    {
      "cell_type": "markdown",
      "source": [
        "## Graph 4: Conditional Graph"
      ],
      "metadata": {
        "id": "m3elMjzh4jjU"
      }
    },
    {
      "cell_type": "code",
      "source": [
        "!pip install langgraph"
      ],
      "metadata": {
        "colab": {
          "base_uri": "https://localhost:8080/"
        },
        "id": "OU7xiMQgV2zP",
        "outputId": "ad7dfd30-2694-435d-b4bd-560412849a1c"
      },
      "execution_count": 2,
      "outputs": [
        {
          "output_type": "stream",
          "name": "stdout",
          "text": [
            "Collecting langgraph\n",
            "  Downloading langgraph-0.5.3-py3-none-any.whl.metadata (6.9 kB)\n",
            "Requirement already satisfied: langchain-core>=0.1 in /usr/local/lib/python3.11/dist-packages (from langgraph) (0.3.69)\n",
            "Collecting langgraph-checkpoint<3.0.0,>=2.1.0 (from langgraph)\n",
            "  Downloading langgraph_checkpoint-2.1.1-py3-none-any.whl.metadata (4.2 kB)\n",
            "Collecting langgraph-prebuilt<0.6.0,>=0.5.0 (from langgraph)\n",
            "  Downloading langgraph_prebuilt-0.5.2-py3-none-any.whl.metadata (4.5 kB)\n",
            "Collecting langgraph-sdk<0.2.0,>=0.1.42 (from langgraph)\n",
            "  Downloading langgraph_sdk-0.1.73-py3-none-any.whl.metadata (1.5 kB)\n",
            "Requirement already satisfied: pydantic>=2.7.4 in /usr/local/lib/python3.11/dist-packages (from langgraph) (2.11.7)\n",
            "Requirement already satisfied: xxhash>=3.5.0 in /usr/local/lib/python3.11/dist-packages (from langgraph) (3.5.0)\n",
            "Requirement already satisfied: langsmith>=0.3.45 in /usr/local/lib/python3.11/dist-packages (from langchain-core>=0.1->langgraph) (0.4.6)\n",
            "Requirement already satisfied: tenacity!=8.4.0,<10.0.0,>=8.1.0 in /usr/local/lib/python3.11/dist-packages (from langchain-core>=0.1->langgraph) (8.5.0)\n",
            "Requirement already satisfied: jsonpatch<2.0,>=1.33 in /usr/local/lib/python3.11/dist-packages (from langchain-core>=0.1->langgraph) (1.33)\n",
            "Requirement already satisfied: PyYAML>=5.3 in /usr/local/lib/python3.11/dist-packages (from langchain-core>=0.1->langgraph) (6.0.2)\n",
            "Requirement already satisfied: typing-extensions>=4.7 in /usr/local/lib/python3.11/dist-packages (from langchain-core>=0.1->langgraph) (4.14.1)\n",
            "Requirement already satisfied: packaging>=23.2 in /usr/local/lib/python3.11/dist-packages (from langchain-core>=0.1->langgraph) (25.0)\n",
            "Collecting ormsgpack>=1.10.0 (from langgraph-checkpoint<3.0.0,>=2.1.0->langgraph)\n",
            "  Downloading ormsgpack-1.10.0-cp311-cp311-manylinux_2_17_x86_64.manylinux2014_x86_64.whl.metadata (43 kB)\n",
            "\u001b[2K     \u001b[90m━━━━━━━━━━━━━━━━━━━━━━━━━━━━━━━━━━━━━━━━\u001b[0m \u001b[32m43.7/43.7 kB\u001b[0m \u001b[31m1.2 MB/s\u001b[0m eta \u001b[36m0:00:00\u001b[0m\n",
            "\u001b[?25hRequirement already satisfied: httpx>=0.25.2 in /usr/local/lib/python3.11/dist-packages (from langgraph-sdk<0.2.0,>=0.1.42->langgraph) (0.28.1)\n",
            "Requirement already satisfied: orjson>=3.10.1 in /usr/local/lib/python3.11/dist-packages (from langgraph-sdk<0.2.0,>=0.1.42->langgraph) (3.11.0)\n",
            "Requirement already satisfied: annotated-types>=0.6.0 in /usr/local/lib/python3.11/dist-packages (from pydantic>=2.7.4->langgraph) (0.7.0)\n",
            "Requirement already satisfied: pydantic-core==2.33.2 in /usr/local/lib/python3.11/dist-packages (from pydantic>=2.7.4->langgraph) (2.33.2)\n",
            "Requirement already satisfied: typing-inspection>=0.4.0 in /usr/local/lib/python3.11/dist-packages (from pydantic>=2.7.4->langgraph) (0.4.1)\n",
            "Requirement already satisfied: anyio in /usr/local/lib/python3.11/dist-packages (from httpx>=0.25.2->langgraph-sdk<0.2.0,>=0.1.42->langgraph) (4.9.0)\n",
            "Requirement already satisfied: certifi in /usr/local/lib/python3.11/dist-packages (from httpx>=0.25.2->langgraph-sdk<0.2.0,>=0.1.42->langgraph) (2025.7.14)\n",
            "Requirement already satisfied: httpcore==1.* in /usr/local/lib/python3.11/dist-packages (from httpx>=0.25.2->langgraph-sdk<0.2.0,>=0.1.42->langgraph) (1.0.9)\n",
            "Requirement already satisfied: idna in /usr/local/lib/python3.11/dist-packages (from httpx>=0.25.2->langgraph-sdk<0.2.0,>=0.1.42->langgraph) (3.10)\n",
            "Requirement already satisfied: h11>=0.16 in /usr/local/lib/python3.11/dist-packages (from httpcore==1.*->httpx>=0.25.2->langgraph-sdk<0.2.0,>=0.1.42->langgraph) (0.16.0)\n",
            "Requirement already satisfied: jsonpointer>=1.9 in /usr/local/lib/python3.11/dist-packages (from jsonpatch<2.0,>=1.33->langchain-core>=0.1->langgraph) (3.0.0)\n",
            "Requirement already satisfied: requests<3,>=2 in /usr/local/lib/python3.11/dist-packages (from langsmith>=0.3.45->langchain-core>=0.1->langgraph) (2.32.3)\n",
            "Requirement already satisfied: requests-toolbelt<2.0.0,>=1.0.0 in /usr/local/lib/python3.11/dist-packages (from langsmith>=0.3.45->langchain-core>=0.1->langgraph) (1.0.0)\n",
            "Requirement already satisfied: zstandard<0.24.0,>=0.23.0 in /usr/local/lib/python3.11/dist-packages (from langsmith>=0.3.45->langchain-core>=0.1->langgraph) (0.23.0)\n",
            "Requirement already satisfied: charset-normalizer<4,>=2 in /usr/local/lib/python3.11/dist-packages (from requests<3,>=2->langsmith>=0.3.45->langchain-core>=0.1->langgraph) (3.4.2)\n",
            "Requirement already satisfied: urllib3<3,>=1.21.1 in /usr/local/lib/python3.11/dist-packages (from requests<3,>=2->langsmith>=0.3.45->langchain-core>=0.1->langgraph) (2.4.0)\n",
            "Requirement already satisfied: sniffio>=1.1 in /usr/local/lib/python3.11/dist-packages (from anyio->httpx>=0.25.2->langgraph-sdk<0.2.0,>=0.1.42->langgraph) (1.3.1)\n",
            "Downloading langgraph-0.5.3-py3-none-any.whl (143 kB)\n",
            "\u001b[2K   \u001b[90m━━━━━━━━━━━━━━━━━━━━━━━━━━━━━━━━━━━━━━━━\u001b[0m \u001b[32m143.8/143.8 kB\u001b[0m \u001b[31m5.1 MB/s\u001b[0m eta \u001b[36m0:00:00\u001b[0m\n",
            "\u001b[?25hDownloading langgraph_checkpoint-2.1.1-py3-none-any.whl (43 kB)\n",
            "\u001b[2K   \u001b[90m━━━━━━━━━━━━━━━━━━━━━━━━━━━━━━━━━━━━━━━━\u001b[0m \u001b[32m43.9/43.9 kB\u001b[0m \u001b[31m2.6 MB/s\u001b[0m eta \u001b[36m0:00:00\u001b[0m\n",
            "\u001b[?25hDownloading langgraph_prebuilt-0.5.2-py3-none-any.whl (23 kB)\n",
            "Downloading langgraph_sdk-0.1.73-py3-none-any.whl (50 kB)\n",
            "\u001b[2K   \u001b[90m━━━━━━━━━━━━━━━━━━━━━━━━━━━━━━━━━━━━━━━━\u001b[0m \u001b[32m50.2/50.2 kB\u001b[0m \u001b[31m2.4 MB/s\u001b[0m eta \u001b[36m0:00:00\u001b[0m\n",
            "\u001b[?25hDownloading ormsgpack-1.10.0-cp311-cp311-manylinux_2_17_x86_64.manylinux2014_x86_64.whl (216 kB)\n",
            "\u001b[2K   \u001b[90m━━━━━━━━━━━━━━━━━━━━━━━━━━━━━━━━━━━━━━━━\u001b[0m \u001b[32m216.5/216.5 kB\u001b[0m \u001b[31m8.1 MB/s\u001b[0m eta \u001b[36m0:00:00\u001b[0m\n",
            "\u001b[?25hInstalling collected packages: ormsgpack, langgraph-sdk, langgraph-checkpoint, langgraph-prebuilt, langgraph\n",
            "Successfully installed langgraph-0.5.3 langgraph-checkpoint-2.1.1 langgraph-prebuilt-0.5.2 langgraph-sdk-0.1.73 ormsgpack-1.10.0\n"
          ]
        }
      ]
    },
    {
      "cell_type": "code",
      "source": [
        "from typing import TypedDict\n",
        "from langgraph.graph import StateGraph, START, END"
      ],
      "metadata": {
        "id": "0-p4JGVrwvQC"
      },
      "execution_count": 3,
      "outputs": []
    },
    {
      "cell_type": "code",
      "source": [
        "class AgentState(TypedDict):\n",
        "  number1: int\n",
        "  operation: str\n",
        "  number2: int\n",
        "  finalNumber: int"
      ],
      "metadata": {
        "id": "dPN4LmXz5vL_"
      },
      "execution_count": 4,
      "outputs": []
    },
    {
      "cell_type": "code",
      "source": [
        "def adder(state:AgentState) -> AgentState:\n",
        "  \"\"\"we add 2 numbers\"\"\"\n",
        "  state[\"finalNumber\"] = state[\"number1\"] + state[\"number2\"]\n",
        "  return state\n",
        "\n",
        "def subtractro(state:AgentState) -> AgentState:\n",
        "  \"\"\"we add 2 numbers\"\"\"\n",
        "  state[\"finalNumber\"] = state[\"number1\"] - state[\"number2\"]\n",
        "  return state\n",
        "\n",
        "def decide_next_node(state:AgentState) -> AgentState:\n",
        "  \"\"\"this will select the next node of the graph\"\"\"\n",
        "  if state[\"operation\"] == \"+\":\n",
        "    return \"addition_operation\"\n",
        "  elif state[\"operation\"] == \"-\":\n",
        "    return \"subtraction_operation\"\n"
      ],
      "metadata": {
        "id": "9PU6eZ8x6lo6"
      },
      "execution_count": 6,
      "outputs": []
    },
    {
      "cell_type": "code",
      "source": [
        "graph = StateGraph(AgentState)\n",
        "\n",
        "graph.add_node(\"add_node\", adder)\n",
        "graph.add_node(\"subtract_node\", subtractro)\n",
        "graph.add_node(\"router\", lambda state:state) # pass through function\n",
        "\n",
        "graph.add_edge(START, \"router\")\n",
        "graph.add_conditional_edges(\n",
        "    \"router\",\n",
        "    decide_next_node,\n",
        "    ##path map\n",
        "    {\n",
        "        \"addition_operation\": \"add_node\",\n",
        "        \"subtraction_operation\": \"subtract_node\"\n",
        "    }\n",
        ")\n",
        "\n",
        "graph.add_edge(\"add_node\", END)\n",
        "graph.add_edge(\"subtract_node\", END)\n",
        "\n",
        "app = graph.compile()"
      ],
      "metadata": {
        "id": "mN3sVWnZ7H9z"
      },
      "execution_count": 11,
      "outputs": []
    },
    {
      "cell_type": "code",
      "source": [
        "app"
      ],
      "metadata": {
        "colab": {
          "base_uri": "https://localhost:8080/",
          "height": 374
        },
        "id": "qvwtJp0hZg9H",
        "outputId": "01babf38-5f88-4c05-c654-39d677fcf60c"
      },
      "execution_count": 12,
      "outputs": [
        {
          "output_type": "execute_result",
          "data": {
            "text/plain": [
              "<langgraph.graph.state.CompiledStateGraph object at 0x7ce347b28e10>"
            ],
            "image/png": "[encoded data removed]"
          },
          "metadata": {},
          "execution_count": 12
        }
      ]
    },
    {
      "cell_type": "code",
      "source": [
        "initial_state_1 = AgentState(number1=10, operation=\"+\", number2=5)\n",
        "initial_state_2 = AgentState(number1=10, operation=\"-\", number2=5)"
      ],
      "metadata": {
        "id": "EzikvehXba3L"
      },
      "execution_count": 13,
      "outputs": []
    },
    {
      "cell_type": "code",
      "source": [
        "print(app.invoke(initial_state_1))"
      ],
      "metadata": {
        "colab": {
          "base_uri": "https://localhost:8080/"
        },
        "id": "suULEX7ybpzO",
        "outputId": "d9e0310a-d17e-4414-8848-0c651b55951d"
      },
      "execution_count": 14,
      "outputs": [
        {
          "output_type": "stream",
          "name": "stdout",
          "text": [
            "{'number1': 10, 'operation': '+', 'number2': 5, 'finalNumber': 15}\n"
          ]
        }
      ]
    },
    {
      "cell_type": "code",
      "source": [
        "print(app.invoke(initial_state_2))"
      ],
      "metadata": {
        "colab": {
          "base_uri": "https://localhost:8080/"
        },
        "id": "Pk0EObjqbsdA",
        "outputId": "7fee6844-fd56-4149-e532-7283615705cf"
      },
      "execution_count": 15,
      "outputs": [
        {
          "output_type": "stream",
          "name": "stdout",
          "text": [
            "{'number1': 10, 'operation': '-', 'number2': 5, 'finalNumber': 5}\n"
          ]
        }
      ]
    },
    {
      "cell_type": "code",
      "source": [],
      "metadata": {
        "id": "QfJ5DE6Vbu8y"
      },
      "execution_count": null,
      "outputs": []
    },
    {
      "cell_type": "code",
      "metadata": {
        "id": "c22f4179"
      },
      "source": [
        "from typing import TypedDict, List\n",
        "from langgraph.graph import StateGraph, START, END\n",
        "\n",
        "class AgentState(TypedDict):\n",
        "    numbers: List[int]\n",
        "    operation: str\n",
        "    result: int"
      ],
      "execution_count": 16,
      "outputs": []
    },
    {
      "cell_type": "code",
      "metadata": {
        "id": "a0970db8"
      },
      "source": [
        "def adder_four(state: AgentState) -> AgentState:\n",
        "    \"\"\"Adds four numbers\"\"\"\n",
        "    if len(state[\"numbers\"]) == 4:\n",
        "        state[\"result\"] = sum(state[\"numbers\"])\n",
        "    else:\n",
        "        state[\"result\"] = 0  # Or handle the error appropriately\n",
        "    return state\n",
        "\n",
        "def subtractor_four(state: AgentState) -> AgentState:\n",
        "    \"\"\"Subtracts the last three numbers from the first\"\"\"\n",
        "    if len(state[\"numbers\"]) == 4:\n",
        "        state[\"result\"] = state[\"numbers\"][0] - sum(state[\"numbers\"][1:])\n",
        "    else:\n",
        "        state[\"result\"] = 0 # Or handle the error appropriately\n",
        "    return state\n",
        "\n",
        "def decide_next_node_four(state: AgentState) -> str:\n",
        "    \"\"\"Decides the next node based on the operation\"\"\"\n",
        "    if state[\"operation\"] == \"add\":\n",
        "        return \"addition_operation_four\"\n",
        "    elif state[\"operation\"] == \"subtract\":\n",
        "        return \"subtraction_operation_four\"\n",
        "    else:\n",
        "        # Handle unexpected operations\n",
        "        return END # Or a dedicated error node"
      ],
      "execution_count": 17,
      "outputs": []
    },
    {
      "cell_type": "code",
      "metadata": {
        "id": "ea044b70"
      },
      "source": [
        "graph_four = StateGraph(AgentState)\n",
        "\n",
        "graph_four.add_node(\"add_node2\", adder_four)\n",
        "graph_four.add_node(\"subtract_node2\", subtractor_four)\n",
        "graph_four.add_node(\"router_four\", lambda state: state) # Pass through node\n",
        "\n",
        "graph_four.add_edge(START, \"router_four\")\n",
        "graph_four.add_conditional_edges(\n",
        "    \"router_four\",\n",
        "    decide_next_node_four,\n",
        "    {\n",
        "        \"addition_operation_four\": \"add_node2\", # Updated target\n",
        "        \"subtraction_operation_four\": \"subtract_node2\", # Updated target\n",
        "        END: END # Handle unexpected operations by ending the graph\n",
        "    }\n",
        ")\n",
        "\n",
        "graph_four.add_edge(\"add_node2\", END) # Updated source\n",
        "graph_four.add_edge(\"subtract_node2\", END) # Updated source\n",
        "\n",
        "app_four = graph_four.compile()"
      ],
      "execution_count": 21,
      "outputs": []
    },
    {
      "cell_type": "code",
      "source": [
        "app_four"
      ],
      "metadata": {
        "colab": {
          "base_uri": "https://localhost:8080/",
          "height": 374
        },
        "id": "kvyO09FcdHxp",
        "outputId": "410c9793-be9b-476a-9d85-47c4da15abe0"
      },
      "execution_count": 22,
      "outputs": [
        {
          "output_type": "execute_result",
          "data": {
            "text/plain": [
              "<langgraph.graph.state.CompiledStateGraph object at 0x7ce348012750>"
            ],
            "image/png": "[encoded data removed]"
          },
          "metadata": {},
          "execution_count": 22
        }
      ]
    },
    {
      "cell_type": "code",
      "metadata": {
        "colab": {
          "base_uri": "https://localhost:8080/"
        },
        "id": "f55c2761",
        "outputId": "9d2ee53e-cfc7-4020-a8e7-218e5f739e33"
      },
      "source": [
        "# Example usage\n",
        "initial_state_add = AgentState(numbers=[10, 5, 2, 3], operation=\"add\")\n",
        "initial_state_subtract = AgentState(numbers=[10, 5, 2, 3], operation=\"subtract\")\n",
        "\n",
        "result_add = app_four.invoke(initial_state_add)\n",
        "result_subtract = app_four.invoke(initial_state_subtract)\n",
        "\n",
        "print(\"Addition Result:\", result_add)\n",
        "print(\"Subtraction Result:\", result_subtract)"
      ],
      "execution_count": 19,
      "outputs": [
        {
          "output_type": "stream",
          "name": "stdout",
          "text": [
            "Addition Result: {'numbers': [10, 5, 2, 3], 'operation': 'add', 'result': 20}\n",
            "Subtraction Result: {'numbers': [10, 5, 2, 3], 'operation': 'subtract', 'result': 0}\n"
          ]
        }
      ]
    },
    {
      "cell_type": "code",
      "source": [],
      "metadata": {
        "id": "oke_LN6beT-8"
      },
      "execution_count": null,
      "outputs": []
    },
    {
      "cell_type": "markdown",
      "source": [
        "## Looping graph"
      ],
      "metadata": {
        "id": "wpRAJYdJeUWi"
      }
    },
    {
      "cell_type": "code",
      "source": [
        " from langgraph.graph import StateGraph, END\n",
        " import random\n",
        " from typing import Dict, List, TypedDict"
      ],
      "metadata": {
        "id": "AbW9jamQeWUA"
      },
      "execution_count": 23,
      "outputs": []
    },
    {
      "cell_type": "code",
      "source": [
        "class AgentState(TypedDict):\n",
        "    name: str\n",
        "    number: List[int]\n",
        "    counter: int"
      ],
      "metadata": {
        "id": "5HqgAmHigSUd"
      },
      "execution_count": 25,
      "outputs": []
    },
    {
      "cell_type": "code",
      "source": [
        "def greeting_node(state: AgentState) -> AgentState:\n",
        "    \"\"\"Greeting Node which says hi to the person\"\"\"\n",
        "    state[\"name\"] = f\"Hi there, {state['name']}\"\n",
        "    state[\"counter\"] = 0\n",
        "\n",
        "    return state\n",
        "\n",
        "def random_node(state: AgentState) -> AgentState:\n",
        "    \"\"\"Generates a random number from 0 to 10\"\"\"\n",
        "    state[\"number\"].append(random.randint(0, 10))\n",
        "    state[\"counter\"] += 1\n",
        "\n",
        "    return state\n",
        "\n",
        "\n",
        "def should_continue(state: AgentState) -> AgentState:\n",
        "    \"\"\"Function to decide what to do next\"\"\"\n",
        "    if state[\"counter\"] < 5:\n",
        "        print(\"ENTERING LOOP\", state[\"counter\"])\n",
        "        return \"loop\"  # Continue looping\n",
        "    else:\n",
        "        return \"exit\"  # Exit the loop"
      ],
      "metadata": {
        "id": "XxZASAUOggYF"
      },
      "execution_count": 28,
      "outputs": []
    },
    {
      "cell_type": "code",
      "source": [
        "graph = StateGraph(AgentState)\n",
        "\n",
        "graph.add_node(\"greeting\", greeting_node)\n",
        "graph.add_node(\"random\", random_node)\n",
        "graph.add_edge(\"greeting\", \"random\")\n",
        "\n",
        "\n",
        "graph.add_conditional_edges(\n",
        "    \"random\",     # Source node\n",
        "    should_continue, # Action\n",
        "    {\n",
        "        \"loop\": \"random\",\n",
        "        \"exit\": END\n",
        "    }\n",
        ")\n",
        "\n",
        "graph.set_entry_point(\"greeting\")\n",
        "\n",
        "app = graph.compile()"
      ],
      "metadata": {
        "id": "XuQ32dVRg-VZ"
      },
      "execution_count": 29,
      "outputs": []
    },
    {
      "cell_type": "code",
      "source": [
        "app"
      ],
      "metadata": {
        "colab": {
          "base_uri": "https://localhost:8080/",
          "height": 448
        },
        "id": "Kz4AhfLOhVnV",
        "outputId": "7892652f-d7ff-4ec5-9342-62ecec4a54de"
      },
      "execution_count": 30,
      "outputs": [
        {
          "output_type": "execute_result",
          "data": {
            "text/plain": [
              "<langgraph.graph.state.CompiledStateGraph object at 0x7ce3479ef890>"
            ],
            "image/png": "[encoded data removed]"
          },
          "metadata": {},
          "execution_count": 30
        }
      ]
    },
    {
      "cell_type": "code",
      "source": [
        "app.invoke({\"name\":\"Vaibhav\", \"number\":[], \"counter\":-100})"
      ],
      "metadata": {
        "colab": {
          "base_uri": "https://localhost:8080/"
        },
        "id": "_zT4LkpIhWg4",
        "outputId": "77e43fd7-d825-4113-b148-0174b0b2ca58"
      },
      "execution_count": 31,
      "outputs": [
        {
          "output_type": "stream",
          "name": "stdout",
          "text": [
            "ENTERING LOOP 1\n",
            "ENTERING LOOP 2\n",
            "ENTERING LOOP 3\n",
            "ENTERING LOOP 4\n"
          ]
        },
        {
          "output_type": "execute_result",
          "data": {
            "text/plain": [
              "{'name': 'Hi there, Vaibhav', 'number': [5, 7, 0, 2, 4], 'counter': 5}"
            ]
          },
          "metadata": {},
          "execution_count": 31
        }
      ]
    },
    {
      "cell_type": "code",
      "source": [
        "from typing import TypedDict, Annotated\n",
        "import random\n",
        "\n",
        "# Define state\n",
        "class GameState(TypedDict):\n",
        "    lower_bound: Annotated[int, \"Lower bound of the range\"]\n",
        "    upper_bound: Annotated[int, \"Upper bound of the range\"]\n",
        "    attempts: Annotated[int, \"Number of attempts made\"]\n",
        "    target: Annotated[int, \"Target number to guess\"]\n",
        "\n",
        "# Initial state\n",
        "initial_state = GameState(\n",
        "    lower_bound=1,\n",
        "    upper_bound=20,\n",
        "    attempts=0,\n",
        "    target=random.randint(1, 20)\n",
        ")\n",
        "\n",
        "def guess_node(state: GameState) -> dict:\n",
        "    if state[\"attempts\"] >= 7:\n",
        "        return {\"result\": \"Max attempts reached!\"}\n",
        "\n",
        "    guess = (state[\"lower_bound\"] + state[\"upper_bound\"]) // 2\n",
        "    state[\"attempts\"] += 1\n",
        "    print(f\"Guess: {guess}, Attempts: {state['attempts']}, Range: [{state['lower_bound']}, {state['upper_bound']}]\")\n",
        "    return {\"guess\": guess}\n",
        "\n",
        "def hint_node(state: GameState, hint: str) -> dict:\n",
        "    guess = state.get(\"guess\", (state[\"lower_bound\"] + state[\"upper_bound\"]) // 2)\n",
        "\n",
        "    if hint == \"correct\":\n",
        "        return {\"result\": f\"Correct! Guessed {guess} in {state['attempts']} attempts.\"}\n",
        "    elif hint == \"higher\":\n",
        "        state[\"lower_bound\"] = guess + 1\n",
        "    elif hint == \"lower\":\n",
        "        state[\"upper_bound\"] = guess - 1\n",
        "    else:\n",
        "        return {\"result\": \"Invalid hint!\"}\n",
        "\n",
        "    if state[\"lower_bound\"] > state[\"upper_bound\"]:\n",
        "        return {\"result\": \"Invalid range!\"}\n",
        "    return {}\n",
        "\n",
        "def main():\n",
        "    state = initial_state.copy()\n",
        "    while True:\n",
        "        update = guess_node(state)\n",
        "        if \"result\" in update:\n",
        "            print(update[\"result\"])\n",
        "            break\n",
        "\n",
        "        hint = input(\"Enter hint (higher/lower/correct): \").lower()\n",
        "        update = hint_node(state, hint)\n",
        "        if \"result\" in update:\n",
        "            print(update[\"result\"])\n",
        "            break\n",
        "\n",
        "if __name__ == \"__main__\":\n",
        "    main()"
      ],
      "metadata": {
        "colab": {
          "base_uri": "https://localhost:8080/"
        },
        "id": "Zws1RmOYhZu0",
        "outputId": "04bd30b3-a4e2-48e0-9c28-aa7e03463c70"
      },
      "execution_count": 32,
      "outputs": [
        {
          "output_type": "stream",
          "name": "stdout",
          "text": [
            "Guess: 10, Attempts: 1, Range: [1, 20]\n",
            "Enter hint (higher/lower/correct): higher\n",
            "Guess: 15, Attempts: 2, Range: [11, 20]\n",
            "Enter hint (higher/lower/correct): lower\n",
            "Guess: 12, Attempts: 3, Range: [11, 14]\n",
            "Enter hint (higher/lower/correct): higher\n",
            "Guess: 13, Attempts: 4, Range: [13, 14]\n",
            "Enter hint (higher/lower/correct): lower\n",
            "Invalid range!\n"
          ]
        }
      ]
    },
    {
      "cell_type": "code",
      "source": [],
      "metadata": {
        "id": "ZYXV2CRgibjO"
      },
      "execution_count": null,
      "outputs": []
    }
  ]
}